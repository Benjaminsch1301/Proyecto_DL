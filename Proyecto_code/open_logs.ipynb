{
 "cells": [
  {
   "cell_type": "code",
   "execution_count": null,
   "metadata": {},
   "outputs": [],
   "source": [
    "path = '/Users/ben_rss/Downloads/Deep Learning 2024-1/Proyecto_DL/Proyecto_code/checkpoints/layout2im_coco/logs/events.out.tfevents.1717017155.pc-del-benja.local'\n"
   ]
  },
  {
   "cell_type": "code",
   "execution_count": 23,
   "metadata": {},
   "outputs": [
    {
     "name": "stdout",
     "output_type": "stream",
     "text": [
      "{'images': ['Result/crop_real', 'Result/crop_real_rec', 'Result/crop_rand', 'Result/img_real', 'Result/img_real_rec', 'Result/img_fake_rand'], 'audio': [], 'histograms': [], 'scalars': ['D/loss', 'D/image_adv_loss_real', 'D/image_adv_loss_fake', 'D/object_adv_loss_real', 'D/object_adv_loss_fake', 'D/object_cls_loss_real', 'G/loss', 'G/image_adv_loss', 'G/object_adv_loss', 'G/object_cls_loss', 'G/rec_img', 'G/rec_z', 'G/kl'], 'distributions': [], 'tensors': [], 'graph': False, 'meta_graph': False, 'run_metadata': []}\n"
     ]
    }
   ],
   "source": [
    "from tensorboard.backend.event_processing.event_accumulator import EventAccumulator\n",
    "event_acc = EventAccumulator(path)\n",
    "event_acc.Reload()\n",
    "# Show all tags in the log file\n",
    "print(event_acc.Tags())\n",
    "\n",
    "# E. g. get wall clock, number of steps and value for a scalar 'Accuracy'\n",
    "# w_times, step_nums, vals = zip(*event_acc.Scalars('Accuracy'))"
   ]
  },
  {
   "cell_type": "code",
   "execution_count": 24,
   "metadata": {},
   "outputs": [
    {
     "name": "stdout",
     "output_type": "stream",
     "text": [
      "    step                     tag       value\n",
      "0      1   D/image_adv_loss_fake    0.752083\n",
      "1      2   D/image_adv_loss_fake    0.438642\n",
      "2      1   D/image_adv_loss_real    0.652955\n",
      "3      2   D/image_adv_loss_real    1.034681\n",
      "4      1                  D/loss    7.979148\n",
      "5      2                  D/loss    8.093577\n",
      "6      1  D/object_adv_loss_fake    0.624735\n",
      "7      2  D/object_adv_loss_fake    0.401026\n",
      "8      1  D/object_adv_loss_real    0.742920\n",
      "9      2  D/object_adv_loss_real    1.070296\n",
      "10     1  D/object_cls_loss_real    5.206456\n",
      "11     2  D/object_cls_loss_real    5.148932\n",
      "12     1        G/image_adv_loss    1.158035\n",
      "13     2        G/image_adv_loss    0.524081\n",
      "14     1                    G/kl  208.432312\n",
      "15     2                    G/kl  265.070709\n",
      "16     1                  G/loss   19.056293\n",
      "17     2                  G/loss   18.164312\n",
      "18     1       G/object_adv_loss    1.386660\n",
      "19     2       G/object_adv_loss    0.437077\n",
      "20     1       G/object_cls_loss    5.001201\n",
      "21     2       G/object_cls_loss    5.121730\n",
      "22     1               G/rec_img    0.960512\n",
      "23     2               G/rec_img    0.902451\n",
      "24     1                 G/rec_z    0.846556\n",
      "25     2                 G/rec_z    0.852827\n"
     ]
    }
   ],
   "source": [
    "from tbparse import SummaryReader\n",
    "log_dir = path\n",
    "reader = SummaryReader(log_dir)\n",
    "df = reader.scalars\n",
    "print(df)"
   ]
  },
  {
   "cell_type": "code",
   "execution_count": null,
   "metadata": {},
   "outputs": [],
   "source": []
  }
 ],
 "metadata": {
  "kernelspec": {
   "display_name": "Python 3",
   "language": "python",
   "name": "python3"
  },
  "language_info": {
   "codemirror_mode": {
    "name": "ipython",
    "version": 3
   },
   "file_extension": ".py",
   "mimetype": "text/x-python",
   "name": "python",
   "nbconvert_exporter": "python",
   "pygments_lexer": "ipython3",
   "version": "3.11.7"
  }
 },
 "nbformat": 4,
 "nbformat_minor": 2
}
